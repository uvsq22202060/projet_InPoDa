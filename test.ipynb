{
 "cells": [
  {
   "cell_type": "code",
   "execution_count": null,
   "metadata": {},
   "outputs": [],
   "source": [
    "import json                     # module pour load le file\n",
    "import re                       # module pour retourner les hasthtags\n",
    "from textblob import TextBlob   # module pour analyser le sentiment du tweet\n",
    "import pandas as pd             # module pour visualiser et comparer les tweets\n",
    "import matplotlib.pyplot as plt\n",
    "from datetime import datetime\n",
    "import random as rd\n",
    "import langid\n",
    "\n",
    "# Data utilisé pour la création des dictionnaires pour faciliter l'analyse de diagramme,...\n",
    "file = open(\"sample2.json\",\"r\")\n",
    "data =json.load(file)\n",
    "file.close()\n",
    "\n",
    "# Data utilisé pour analyser visuellement les différentes caractéristiques d'un tweet\n",
    "data2 = pd.read_json(\"sample2.json\")\n",
    "df_data = pd.DataFrame(data2)"
   ]
  },
  {
   "cell_type": "code",
   "execution_count": null,
   "metadata": {},
   "outputs": [],
   "source": [
    "class Tweet :\n",
    "    def __init__(self,id_tweet,location_tweet,creation_tweet,retweet_count,tweet_language,tweet_text) :\n",
    "        self.id = id_tweet\n",
    "        self.location = location_tweet\n",
    "        self.created = creation_tweet\n",
    "        self.retweet = retweet_count\n",
    "        self.language = tweet_language\n",
    "        self.text = tweet_text\n",
    "    \n",
    "    def __str__(self):\n",
    "        return f\"Tweet id : {self.id}\\nAuthor Location : {self.location} \\nTweet Creation : {self.created} \\nNumber of Retweets : {self.retweet} \\nTweet Language : {self.language} \\nTweet Text : {self.text}\"\n",
    "    \n",
    "    def get_author(self):\n",
    "        id_tweet = self.id\n",
    "        return id_tweet\n",
    "    \n",
    "    def get_text(self):\n",
    "        return f\"The text of the tweet : {self.text}\"\n",
    "    \n",
    "    def get_hashtags(self):\n",
    "        return re.findall(r\"#(\\w+)\", self.text)\n",
    "\n",
    "    def get_mention(self):\n",
    "        return re.findall(r\"@(\\w+)\", self.text)\n",
    "    \n",
    "    def get_sentiment(self):\n",
    "        text = TextBlob(self.text)\n",
    "        text_polarity = text.sentiment.polarity\n",
    "        if text_polarity > 0 :\n",
    "            return \"Positive\"\n",
    "        elif text_polarity < 0 :\n",
    "            return \"Negative\"\n",
    "        else :\n",
    "            return \"Neutral\" \n",
    "\n",
    "\n",
    "#instance/ objets de la class\n",
    "tweets = [Tweet(tweet[\"id\"],tweet[\"AuthorLocation\"],tweet[\"CreatedAt\"],tweet[\"RetweetCount\"],tweet[\"TweetLanguage\"],tweet[\"TweetText\"]) for tweet in data]"
   ]
  },
  {
   "cell_type": "code",
   "execution_count": null,
   "metadata": {},
   "outputs": [],
   "source": [
    "#########################################################################################################################\n",
    "##########################################  AVEC LES DICTIONNAIRES   ####################################################\n",
    "#########################################################################################################################\n",
    "\n",
    "# Pour Top K Hashtags -> 2 fonctions\n",
    "\n",
    "# La première : all_hashtag() retourne tout les hashtags du fichier json dans une liste\n",
    "def all_hashtag():\n",
    "    l = []                                         # on intialise la liste qui va être retournée à l'éxécution de la fonction\n",
    "    for tweet in tweets:                           # on parcours tout les tweets (un par un)\n",
    "        if tweet.get_hashtags()== [] :             # on vérifie avec l'atribut de l'instance si la valeur retourner est  \"[]\" <- pas de valeur ; dans ce cas là on passe au tweet suivant\n",
    "            continue\n",
    "        else :\n",
    "            temp = tweet.get_hashtags()            # on affecte a temp (variable temporaire) la liste des hashtags de chaque tweet\n",
    "            for hashtag in temp :                  # on accède à chaque hashtag présent dans temp\n",
    "                l.append(hashtag)                  # on l'affecte à la liste finale qu'on va retourner\n",
    "                \n",
    "    return l\n",
    "   \n",
    "# La deuxième : top_hashtag(k) retourne le top k (index) hashtag utilisé dans la database\n",
    "def top_hashtag(k):\n",
    "    hashtags = all_hashtag()                       # utilisation de la fonction all_hashtag() pour récupérer la liste complète des hashtag\n",
    "    hashtag_count = {}                             # on initialise un dictionnaire vide pour compter chaque occurence de chaque hashtag\n",
    "    for hashtag in hashtags :                      # ici on prend chaque hashtag un par un, ici nommé \"e\" (pour élément)\n",
    "        if hashtag in hashtag_count :              # on vérifie si \"hashtag\" est dans le dictionnaire qui compte les occurences\n",
    "            hashtag_count[hashtag] += 1            # dans ce cas là on incrémente sa valeur de 1\n",
    "        else :\n",
    "            hashtag_count[hashtag] = 1             # dans le cas contraire, on initialise la clé \"hashtag\" à une valeur initiale de 1 \n",
    "\n",
    "    hashtag_count = dict(sorted(hashtag_count.items(),key = lambda x : x[1], reverse=True)) # on tri le dictionnaire en fonction des valeurs avec le lambda x[1] et reverse = True (de manière croissante)\n",
    "    temp = list(hashtag_count.items())[:k]        # on converti le dictionnaire en une liste pour pouvoir effectué un slicing (afin d'obtenir les top k éléments) \n",
    "    top_k_hashtag = dict(temp)                    # on reconverti en dictionnaire afin de pouvoir manipuler les clés et valeurs facilement et dans un odre précis\n",
    "    \n",
    "    # Diagramme avec plt\n",
    "    x_hashtag = list(top_k_hashtag.keys())        # on affecte à la variable x_hashtag les clés du dictionnaire (les hashtags (str))\n",
    "    y_occurence = list(top_k_hashtag.values())    # on affecte à la variable y_occurence les valeurs des clés du dictionnaire (les occurences)\n",
    "\n",
    "    plt.bar(x_hashtag,y_occurence)                # on créer le diagramme en bar avec en x -> x_hashtag et en y -> y_occurence\n",
    "    plt.xlabel(\"Hashtag\")                         # \"Hashtag\" comme titre de l'axe des x\n",
    "    plt.ylabel(\"Occurence\")                       # \"Occurence\" comme titre de l'axe des y\n",
    "\n",
    "    plt.xticks(fontsize=6)                        # on précise la taille du texte pour les valeurs en x (les hashtags)\n",
    "    plt.show()                                    # affichage du diagramme\n",
    "\n",
    "    return top_k_hashtag                          # on retourne en même temps le dictionnaire trié en ordre croissant des top k hashtags\n",
    "\n",
    "#########################################################################################################################\n",
    "\n",
    "# Pour Top K Users -> 2 fonctions \n",
    "\n",
    "# La première : all_users() qui retourne tout les utilisateurs présent dans le fichier json dans une liste\n",
    "def all_users():\n",
    "    l = []                                       # on intialise la liste qui va être retournée à l'éxécution de la fonction\n",
    "    for tweet in tweets:                         # on parcours tout les tweets (un par un)\n",
    "        user = tweet.get_author()                # on extrait l'auteur grâce à la méthode .get_author() qu'on place dans la variable user\n",
    "        l.append(user)                           # on ajoute à la liste l'utilisateur/id du tweet\n",
    "                \n",
    "    return l\n",
    "\n",
    "# La deuxième : top_users(k) qui retourne le top k (index) d'utilisateurs/id présent dans la database\n",
    "def top_users(k):\n",
    "    users = all_users()                          # utilisation de la fonction all_users() pour récupérer la liste complète des utilisateurs\n",
    "    user_ntweet = {}                             # on initialise un dictionnaire vide pour compter chaque occurence de chaque id\n",
    "    for user in users :                          # ici on prend chaque id un par un, ici nommé \"user\"\n",
    "        if user in user_ntweet :                 # on vérifie si l'id est déjà dans le dictionnaire\n",
    "            user_ntweet[user] += 1               # si c'est le ce cas, on incrémente sa valeur de 1 \n",
    "        else :\n",
    "            user_ntweet[user] = 1                # sinon on crée une clé pour l'id correspondant et on initie sa valeur à 1 \n",
    "\n",
    "    user_ntweet = dict(sorted(user_ntweet.items(),key = lambda x : x[1], reverse=True)) # on tri le dictionnaire en fonction des valeurs avec le lambda x[1] et reverse = True (de manière croissante)\n",
    "    temp = list(user_ntweet.items())[:k]         # on converti le dictionnaire en une liste pour pouvoir effectué un slicing (afin d'obtenir les top k éléments)\n",
    "    top_k_users = dict(temp)                     # on reconverti en dictionnaire afin de pouvoir manipuler les clés et valeurs facilement et dans un odre précis\n",
    "\n",
    "    x_user = list(top_k_users.keys())            # on affecte à la variable x_user les clés du dictionnaire (les id (str))\n",
    "    y_occurence = list(top_k_users.values())     # on affecte à la variable y_occurence les valeurs du dictionnaire (les occurences)\n",
    "\n",
    "    plt.bar(x_user,y_occurence)                  # on créer le diagramme en bar avec en x -> x_hashtag et en y -> y_occurence\n",
    "    plt.xlabel(\"User\")                           # \"User\" comme titre de l'axe des x\n",
    "    plt.ylabel(\"Occurence\")                      # \"Occurence\" comme titre de l'axe des y\n",
    "\n",
    "    plt.xticks(fontsize=6)                       # on précise la taille du texte pour les valeurs en x (les id)\n",
    "    plt.show()                                   # affichage du diagramme\n",
    "\n",
    "\n",
    "    return top_k_users                           # on retourne en même temps le dictionnaire trié en ordre croissant des top k users\n",
    "\n",
    "\n",
    "#########################################################################################################################\n",
    "\n",
    "# Pour the top K mentions -> 2 fonctions \n",
    "\n",
    "# La première : all_mentions() qui retourne toutes les mentions de la database\n",
    "def all_mentions():\n",
    "    l = []                                        # on initialise la liste qui va être utilisée pour retourner les mentions à l'éxécution de la fonction\n",
    "    for tweet in tweets:\n",
    "        if tweet.get_mention()== [] :             # on vérifie avec l'atribut de l'instance si la valeur retourner est  \"[]\" <- pas de valeur ; dans ce cas là on passe au tweet suivant\n",
    "            continue\n",
    "        else :\n",
    "            mentions = tweet.get_mention()        # on place les mentions obtenues du tweet dans la variable temporaire mentions (qui va correspondre à une liste) \n",
    "            for mention in mentions :             # on parcours chaque élément de la liste (ils peuvent être dans une liste de liste par exemple :[[mention],mention2,...])\n",
    "                l.append(mention)                 # et on l'ajoute à notre liste finale\n",
    "                \n",
    "    return l\n",
    "\n",
    "def top_mention(k):\n",
    "    mentions = all_mentions()                       # utilisation de la fonction all_mentions() pour récupérer la liste complète des mentions\n",
    "    mention_ntweet = {}                             # on initialise un dictionnaire vide pour compter chaque occurence de chaque mention\n",
    "    for mention in mentions :                       # ici on prend chaque mention, une par une\n",
    "        if mention in mention_ntweet :              # on vérifie si la mention est présente dans le dictionnaire\n",
    "            mention_ntweet[mention] += 1            # dans ce cas là on incrémente la valeur corresponde à la mention (la clé)\n",
    "        else :\n",
    "            mention_ntweet[mention] = 1             # dans le cas contraire on initie la clé correspondante à la mention à 1\n",
    "\n",
    "    mention_ntweet = dict(sorted(mention_ntweet.items(),key = lambda x : x[1], reverse=True)) # on tri le dictionnaire en fonction des valeurs avec le lambda x[1] et reverse = True (de manière croissante)\n",
    "    temp = list(mention_ntweet.items())[:k]         # on converti le dictionnaire en une liste pour pouvoir effectué un slicing (afin d'obtenir les top k éléments)\n",
    "    top_k_mentions = dict(temp)                     # on reconverti la liste en dictionnaire trié en ordre croissant des top k mentions\n",
    "\n",
    "    x_mention = list(top_k_mentions.keys())         # on affecte à la variable x_mention les clés du dictionnaire (les mentions (str))\n",
    "    y_occurence = list(top_k_mentions.values())     # on affecte à la variable y_occurence les valeurs du dictionnaire (les occurences)\n",
    "\n",
    "    plt.bar(x_mention,y_occurence)                  # on créer le diagramme en bar avec en x -> x_mention et en y -> y_occurence\n",
    "    plt.xlabel(\"Mention\",)                          # on créer le diagramme en bar avec en x -> x_mention\n",
    "    plt.ylabel(\"Occurence\")                         # on créer le diagramme en bar avec en y -> y_occurence\n",
    "\n",
    "    plt.xticks(fontsize=7)                          # on précise la taille du texte pour les valeurs en x (les mentions)\n",
    "    plt.show()                                      # affichage du diagramme\n",
    "\n",
    "    return top_k_mentions                           # on retourne en même temps le dictionnaire trié en ordre croissant des top k mentions\n",
    "\n",
    "#########################################################################################################################\n",
    "\n",
    "def top_topics():\n",
    "    pass\n",
    "\n",
    "\n",
    "#########################################################################################################################\n",
    "##########################################  AVEC LES DATAFRAMES   #######################################################\n",
    "#########################################################################################################################\n",
    "\n",
    "\n",
    "def all_tweet_mention(mention):                                                               # fonction qui retourne l'ensemble des tweets mentionnant un utilisateur spécifique dans un dataframe\n",
    "    return df_data[df_data[\"TweetText\"].str.contains(f\"@{mention}\",regex=False)]              # on tri les lignes de la database pour extraire seulement celle qui contiennent @mention dans la colonne \n",
    "\n",
    "def all_tweet_hashtag(hashtag):                                                               # fonction qui retourne l'ensemble des tweets faisant référence à un hashtag spécifique\n",
    "    return df_data[df_data[\"TweetText\"].str.contains(f\"#{hashtag}\",regex=False)]              # on tri les lignes de la database pour extraire seulement celle qui contiennent #hashtag dans la colonne de TweetText\n",
    "\n",
    "def user_specified_hashtag(hashtag):                                                          # fonction qui retourne les id de chaque utilisateur mentionnant un hashtag spécifique\n",
    "    return df_data[df_data[\"TweetText\"].str.contains(f\"#{hashtag}\",regex=True)].get(\"id\")     # on tri les lignes de la database pour extraire  les #hashtag présent dans la colonne TweetText et on extrait seulement les id\n",
    "\n",
    "def user_mentionned(user):                                                                    # fonction qui retourne les utilisateurs mentionnés par un utilisateur spécifique\n",
    "    text = str(df_data[df_data[\"id\"]==user].get(\"TweetText\")   )                            # on attribue à la variable text le texte du tweet qui correspond à l'utilisiateur spécifique\n",
    "    return re.findall(r\"@(\\w+)\", text)                                                        # on nettoie le text en extrayant les mentions avec le r\"@(\\w+)\"\n",
    "\n"
   ]
  },
  {
   "cell_type": "code",
   "execution_count": null,
   "metadata": {},
   "outputs": [],
   "source": [
    "user_mentionned(1417013867725656064)        # à corriger"
   ]
  },
  {
   "cell_type": "code",
   "execution_count": null,
   "metadata": {},
   "outputs": [],
   "source": [
    "all_tweet_hashtag(\"MachineLearning\")"
   ]
  },
  {
   "cell_type": "code",
   "execution_count": null,
   "metadata": {},
   "outputs": [],
   "source": [
    "all_tweet_mention(\"nigewillson\")"
   ]
  },
  {
   "cell_type": "code",
   "execution_count": null,
   "metadata": {},
   "outputs": [],
   "source": [
    "user_mentionned(1415291886860967936)"
   ]
  },
  {
   "cell_type": "code",
   "execution_count": null,
   "metadata": {},
   "outputs": [],
   "source": [
    "df_data"
   ]
  },
  {
   "cell_type": "code",
   "execution_count": null,
   "metadata": {},
   "outputs": [],
   "source": [
    "top_hashtag(5)"
   ]
  },
  {
   "cell_type": "code",
   "execution_count": null,
   "metadata": {},
   "outputs": [],
   "source": [
    "all_tweet_mention(\"NEJM\")"
   ]
  },
  {
   "cell_type": "code",
   "execution_count": null,
   "metadata": {},
   "outputs": [],
   "source": [
    "# Test for Top k hashtags\n",
    "all_hashtag()\n",
    "top_hashtag(3)"
   ]
  },
  {
   "cell_type": "code",
   "execution_count": null,
   "metadata": {},
   "outputs": [],
   "source": [
    "# Test for Top k users\n",
    "all_users()\n",
    "top_users(4)"
   ]
  },
  {
   "cell_type": "code",
   "execution_count": null,
   "metadata": {},
   "outputs": [],
   "source": [
    "# Test for Top k mentions\n",
    "all_mentions()\n",
    "top_mention(7)"
   ]
  },
  {
   "cell_type": "code",
   "execution_count": null,
   "metadata": {},
   "outputs": [],
   "source": [
    "all_tweet_hashtag(\"DataScience\")"
   ]
  },
  {
   "cell_type": "code",
   "execution_count": null,
   "metadata": {},
   "outputs": [],
   "source": [
    "all_tweet_mention(\"SpirosMargaris\")"
   ]
  },
  {
   "cell_type": "code",
   "execution_count": null,
   "metadata": {},
   "outputs": [],
   "source": [
    "df_data"
   ]
  },
  {
   "cell_type": "code",
   "execution_count": null,
   "metadata": {},
   "outputs": [],
   "source": [
    "all_hashtag()"
   ]
  },
  {
   "cell_type": "code",
   "execution_count": null,
   "metadata": {},
   "outputs": [],
   "source": [
    "user_specified_hashtag(\"FEATURED\")"
   ]
  },
  {
   "cell_type": "code",
   "execution_count": null,
   "metadata": {},
   "outputs": [],
   "source": [
    "user_mentionned(1415291886860967936)"
   ]
  },
  {
   "cell_type": "code",
   "execution_count": null,
   "metadata": {},
   "outputs": [],
   "source": [
    "all_tweet_hashtag(\"machine\")"
   ]
  },
  {
   "cell_type": "code",
   "execution_count": null,
   "metadata": {},
   "outputs": [],
   "source": [
    "tweets[0].get_sentiment()"
   ]
  },
  {
   "cell_type": "code",
   "execution_count": null,
   "metadata": {},
   "outputs": [],
   "source": [
    "text = \"I love this project\"            # voir ce qu'on va faire avec la méthode .get_sentiment() (ne marche que pour les textes en anglais)\n",
    "a = TextBlob(text)                  \n",
    "print(a.polarity)\n",
    "if a.polarity > 0 :\n",
    "    print(\"Positive\")\n",
    "elif a.polarity < 0 :\n",
    "    print( \"Negative\")\n",
    "else :\n",
    "    print( \"Neutral\" )"
   ]
  },
  {
   "cell_type": "code",
   "execution_count": null,
   "metadata": {},
   "outputs": [],
   "source": [
    "def text_cleaning(text):\n",
    "  # Pattern trouvé sur le lien suivant : https://gist.github.com/Alex-Just/e86110836f3f93fe7932290526529cd1#gistcomment-3208085\n",
    "  \n",
    "  pattern = re.compile(\n",
    "    \"([\"\n",
    "    \"\\U0001F1E0-\\U0001F1FF\"  # flags (iOS)\n",
    "    \"\\U0001F300-\\U0001F5FF\"  # symbols & pictographs\n",
    "    \"\\U0001F600-\\U0001F64F\"  # emoticons\n",
    "    \"\\U0001F680-\\U0001F6FF\"  # transport & map symbols\n",
    "    \"\\U0001F700-\\U0001F77F\"  # alchemical symbols\n",
    "    \"\\U0001F780-\\U0001F7FF\"  # Geometric Shapes Extended\n",
    "    \"\\U0001F800-\\U0001F8FF\"  # Supplemental Arrows-C\n",
    "    \"\\U0001F900-\\U0001F9FF\"  # Supplemental Symbols and Pictographs\n",
    "    \"\\U0001FA00-\\U0001FA6F\"  # Chess Symbols\n",
    "    \"\\U0001FA70-\\U0001FAFF\"  # Symbols and Pictographs Extended-A\n",
    "    \"\\U00002702-\\U000027B0\"  # Dingbats\n",
    "    \"])\"\n",
    "  )\n",
    "  text = re.sub(pattern, r'', text)                  # ici l'expression regulière va supprimer (sub en anglais) les émojis et caractères contenus dans le pattern\n",
    "  return text\n",
    "\n",
    "text_cleaning(\"Je m'appelle Ahmad, j'ai 19 et j'étudie l'informatique 👨‍💻 à l'Université de Versaille Saint-Quention en Yvelines 🎓\")"
   ]
  },
  {
   "cell_type": "code",
   "execution_count": null,
   "metadata": {},
   "outputs": [],
   "source": [
    "def creation_time():                                                      # fonction qui va retourner la date,heure, ... actuelle dans le format utilisé dans le sample de base\n",
    "    actual_time = datetime.now()                                          # on attribue la date actuelle à la variable actual_time \n",
    "    actual_time = actual_time.strftime(\"%Y-%m-%dT%H:%M:%SZ\")              # on reformatise la date avec le format correspondant au fichier json, https://docs.python.org/3/library/datetime.html#strftime-strptime-behavior\n",
    "    return actual_time\n",
    "\n",
    "def random_location():                                                    # fonction qui va retourner une ville aléatoire pour simuler la localisation de l'auteur du tweet\n",
    "    locations =[                                                          # locations est une liste de ville \n",
    "                \"Tokyo, Japan\", \n",
    "                \"New York City, United-States\",\n",
    "                \"Londres, England\",\n",
    "                \"Pekin, China\",\n",
    "                \"Paris, France\",\n",
    "                \"Montreal, Canada\",\n",
    "                \"Madrid, Spain\",\n",
    "                \"Los Angeles, United-States\",\n",
    "                \"Delhi, India\",\n",
    "                \"Beyrouth, Lebanon\",\n",
    "                \"Versailles, France\",\n",
    "                \"Amsterdam, Netherland\",\n",
    "                \"Shanghai, China\",\n",
    "                \"Moscou, Russia\",\n",
    "                \"São Paulo, Brasil\"\n",
    "                ]\n",
    "    \n",
    "    return locations[rd.randint(0,len(locations)-1)]                     # on va retourner un ville aléatoire avec l'utilsation du module random (pour l'index)\n",
    "\n",
    "def create_tweet():\n",
    "    tweet = {\n",
    "        \"id\": int(input(\"Veuillez entrez votre id: \")),\n",
    "        \"AuthorLocation\": random_location(),\n",
    "        \"CreatedAt\": creation_time() ,\n",
    "        \"RetweetCount\": rd.randint(1,10),\n",
    "        \"TweetLanguage\": input(\"Veuillez entrez le language de votre tweet (ex 'en','fr'): \"),\n",
    "        \"TweetText\": input(\"Que voulez-vous tweetez: \")             # à corriger pour les é etc on obtient /u... \n",
    "    }\n",
    "\n",
    "    try:\n",
    "        with open(\"filetest.json\", \"r\") as file:\n",
    "            database = json.load(file)\n",
    "    except FileNotFoundError:\n",
    "         \n",
    "         database = []\n",
    "\n",
    "    \n",
    "    database.append(tweet)\n",
    "\n",
    "    \n",
    "    with open(\"filetest.json\", \"w\") as file:\n",
    "        json.dump(database, file)\n",
    "\n",
    "create_tweet()"
   ]
  },
  {
   "cell_type": "code",
   "execution_count": null,
   "metadata": {},
   "outputs": [],
   "source": [
    "# Test pour nettoyer le fichier et le transmetre dans une fichier destination\n",
    "\n",
    "def transfere(source, destination):\n",
    "    with open(source,\"r\") as source_file, open(destination,\"w\") as destination_file :\n",
    "\n",
    "        content_source = source_file.read()\n",
    "        content_source = text_cleaning(content_source)\n",
    "\n",
    "        destination_file.write(content_source)\n",
    "\n",
    "\n",
    "transfere(\"test1.json\",\"test2.json\")"
   ]
  },
  {
   "cell_type": "code",
   "execution_count": null,
   "metadata": {},
   "outputs": [],
   "source": [
    "# Test pour peut-être l'utilisé dans le \"TweetLanguage\" lors de la création d'un tweet\n",
    "\n",
    "text = \"hello, comment ca va\"\n",
    "language,_ = langid.classify(text)\n",
    "print(language)"
   ]
  }
 ],
 "metadata": {
  "kernelspec": {
   "display_name": "Python 3",
   "language": "python",
   "name": "python3"
  },
  "language_info": {
   "codemirror_mode": {
    "name": "ipython",
    "version": 3
   },
   "file_extension": ".py",
   "mimetype": "text/x-python",
   "name": "python",
   "nbconvert_exporter": "python",
   "pygments_lexer": "ipython3",
   "version": "3.10.6"
  }
 },
 "nbformat": 4,
 "nbformat_minor": 2
}
