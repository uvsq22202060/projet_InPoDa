{
 "cells": [
  {
   "cell_type": "code",
   "execution_count": 2,
   "metadata": {},
   "outputs": [],
   "source": [
    "import json                     # module pour load le file\n",
    "import re                       # module pour retourner les hasthtags\n",
    "from textblob import TextBlob   # module pour analyser le sentiment du tweet\n",
    "import pandas as pd             # module pour visualiser et comparer les tweets\n",
    "\n",
    "# Data utilisé pour la création des dictionnaires pour compter le nombres x de y dans les tweets\n",
    "file = open(\"sample.json\",\"r\")\n",
    "data =json.load(file)\n",
    "file.close()\n",
    "\n",
    "# Data utilisé pour analyser visuellement les différentes caractéristiques d'un tweet\n",
    "data2 = pd.read_json(\"sample.json\")\n",
    "df_data = pd.DataFrame(data2)"
   ]
  },
  {
   "cell_type": "code",
   "execution_count": null,
   "metadata": {},
   "outputs": [],
   "source": [
    "class Tweet :\n",
    "    def __init__(self,id_tweet,location_tweet,creation_tweet,retweet_count,tweet_language,tweet_text) :\n",
    "        self.id = id_tweet\n",
    "        self.location = location_tweet\n",
    "        self.created = creation_tweet\n",
    "        self.retweet = retweet_count\n",
    "        self.language = tweet_language\n",
    "        self.text = tweet_text\n",
    "    \n",
    "    def __str__(self):\n",
    "        return f\"Tweet id : {self.id}\\nAuthor Location : {self.location} \\nTweet Creation : {self.created} \\nNumber of Retweets : {self.retweet} \\nTweet Language : {self.language} \\nTweet Text : {self.text}\"\n",
    "    \n",
    "    def get_author(self):\n",
    "        id_tweet = self.id\n",
    "        return id_tweet\n",
    "    \n",
    "    def get_text(self):\n",
    "        return f\"The text of the tweet : {self.text}\"\n",
    "    \n",
    "    def get_hashtags(self):\n",
    "        return re.findall(r\"#(\\w+)\", self.text)\n",
    "\n",
    "    def get_mention(self):\n",
    "        return re.findall(r\"@(\\w+)\", self.text)\n",
    "    \n",
    "    def get_sentiment(self):\n",
    "        text = TextBlob(self.text)\n",
    "        text_polarity = text.sentiment.polarity\n",
    "        if text_polarity > 0 :\n",
    "            return \"Positive\"\n",
    "        elif text_polarity < 0 :\n",
    "            return \"Negative\"\n",
    "        else :\n",
    "            return \"Neutral\" \n",
    "\n",
    "\n",
    "#instance/ objets de la class\n",
    "tweets = [Tweet(tweet[\"id\"],tweet[\"AuthorLocation\"],tweet[\"CreatedAt\"],tweet[\"RetweetCount\"],tweet[\"TweetLanguage\"],tweet[\"TweetText\"]) for tweet in data]"
   ]
  },
  {
   "cell_type": "code",
   "execution_count": null,
   "metadata": {},
   "outputs": [],
   "source": [
    "# for the Top K Hashtags -> 2 functions\n",
    "\n",
    "# The first one : all_hashtag() : return all the hashtags of the json file\n",
    "def all_hashtag():\n",
    "    l = []\n",
    "    for tweet in tweets:\n",
    "        if tweet.get_hashtags()== [] :\n",
    "            continue\n",
    "        else :\n",
    "            x = tweet.get_hashtags()\n",
    "            for hashtag in x :\n",
    "                l.append(hashtag)\n",
    "                \n",
    "    return l\n",
    "    \n",
    "#The second one : top_hashtag(k) : return the top k (index entered by the user) hashthag by using the all_hashtag function\n",
    "def top_hashtag(k):\n",
    "    hashtag = all_hashtag()               \n",
    "    hashtag_count = {}                            # initiate dictionnary for counting each occurence of hashtags\n",
    "    for e in hashtag :                            \n",
    "        if e in hashtag_count :                   # checking if e is in hashtag\n",
    "            hashtag_count[e] += 1                 # if yes we add 1 to it, so the count is updated\n",
    "        else :\n",
    "            hashtag_count[e] = 1                  # if not, we create a new key, and a count equal to 1\n",
    "\n",
    "    hashtag_count = dict(sorted(hashtag_count.items(),key = lambda x : x[1], reverse=True)) # ascending values\n",
    "    temp = list(hashtag_count.items())[:k]        # converting to list for slicing to get the first element till index k\n",
    "    top_k_hashtag = dict(temp)                    # reverting into dictionnary \n",
    "\n",
    "    return top_k_hashtag                          \n",
    "\n",
    "#########################################################################################################################\n",
    "\n",
    "#for the top K users -> 2 functions \n",
    "\n",
    "# The first one : all_users() : return all the users of the json file\n",
    "def all_users():\n",
    "    l = []\n",
    "    for tweet in tweets:\n",
    "        user = tweet.get_author()\n",
    "        l.append(user)\n",
    "                \n",
    "    return l\n",
    "    \n",
    "def top_users(k):\n",
    "    users = all_users()\n",
    "    user_ntweet = {}\n",
    "    for user in users :\n",
    "        if user in user_ntweet :\n",
    "            user_ntweet[user] += 1\n",
    "        else :\n",
    "            user_ntweet[user] = 1\n",
    "\n",
    "    user_ntweet = dict(sorted(user_ntweet.items(),key = lambda x : x[1], reverse=True))\n",
    "    temp = list(user_ntweet.items())[:k]\n",
    "    top_k_users = dict(temp)\n",
    "\n",
    "    return top_k_users\n",
    "\n",
    "\n",
    "#########################################################################################################################\n",
    "\n",
    "# for the top K mentions -> 2 functions \n",
    "\n",
    "# The first one : all_mentions() : return all the mentions of the json file\n",
    "def all_mentions():\n",
    "    l = []\n",
    "    for tweet in tweets:\n",
    "        if tweet.get_mention()== [] :   # verify if the value is \"[]\" <- no value ; in this case we pass to next tweet\n",
    "            continue\n",
    "        else :\n",
    "            mentions = tweet.get_mention()  # we put the mentions of the tweet into a variable\n",
    "            for mention in mentions :       # we take each mention (they may be separated in concatenated list for example : [[mention]])\n",
    "                l.append(mention)           # we put it in our final list\n",
    "                \n",
    "    return l\n",
    "\n",
    "def top_mention(k):\n",
    "    mentions = all_mentions()\n",
    "    mention_ntweet = {}\n",
    "    for mention in mentions :\n",
    "        if mention in mention_ntweet :\n",
    "            mention_ntweet[mention] += 1\n",
    "        else :\n",
    "            mention_ntweet[mention] = 1\n",
    "\n",
    "    mention_ntweet = dict(sorted(mention_ntweet.items(),key = lambda x : x[1], reverse=True))\n",
    "    temp = list(mention_ntweet.items())[:k]\n",
    "    top_k_mentions = dict(temp)\n",
    "\n",
    "    return top_k_mentions\n",
    "\n",
    "#########################################################################################################################\n",
    "\n",
    "\n",
    "def top_topics():\n",
    "    pass\n",
    "\n",
    "def ntweet_per_user():\n",
    "    pass\n",
    "\n",
    "def ntweet_per_hashtag():\n",
    "    pass\n",
    "\n",
    "def ntweet_per_topic():\n",
    "    pass\n",
    "\n",
    "def alltweet():\n",
    "    pass\n"
   ]
  },
  {
   "cell_type": "code",
   "execution_count": null,
   "metadata": {},
   "outputs": [
    {
     "data": {
      "text/plain": [
       "{'A': 2, 'hdatasystems': 1, 'Artificia': 1}"
      ]
     },
     "execution_count": 4,
     "metadata": {},
     "output_type": "execute_result"
    }
   ],
   "source": [
    "# Test for Top k hashtags\n",
    "all_hashtag()\n",
    "top_hashtag(3)"
   ]
  },
  {
   "cell_type": "code",
   "execution_count": null,
   "metadata": {},
   "outputs": [
    {
     "data": {
      "text/plain": [
       "{'1421423964845395969': 2,\n",
       " '1415291947560828933': 1,\n",
       " '1415291877897605120': 1,\n",
       " '1415291886860967940': 1}"
      ]
     },
     "execution_count": 14,
     "metadata": {},
     "output_type": "execute_result"
    }
   ],
   "source": [
    "# Test for Top k users\n",
    "all_users()\n",
    "top_users(4)"
   ]
  },
  {
   "cell_type": "code",
   "execution_count": null,
   "metadata": {},
   "outputs": [
    {
     "data": {
      "text/plain": [
       "{'HDataSystems': 2, 'adgpi': 1, 'pacorjo': 1, 'marcusborba': 1}"
      ]
     },
     "execution_count": 6,
     "metadata": {},
     "output_type": "execute_result"
    }
   ],
   "source": [
    "# Test for Top k mentions\n",
    "all_mentions()\n",
    "top_mention(4)"
   ]
  },
  {
   "cell_type": "code",
   "execution_count": null,
   "metadata": {},
   "outputs": [],
   "source": []
  },
  {
   "cell_type": "code",
   "execution_count": null,
   "metadata": {},
   "outputs": [
    {
     "data": {
      "text/plain": [
       "'Negative'"
      ]
     },
     "execution_count": 7,
     "metadata": {},
     "output_type": "execute_result"
    }
   ],
   "source": [
    "tweets[0].get_sentiment()"
   ]
  },
  {
   "cell_type": "code",
   "execution_count": null,
   "metadata": {},
   "outputs": [
    {
     "data": {
      "text/plain": [
       "['HDataSystems']"
      ]
     },
     "execution_count": 8,
     "metadata": {},
     "output_type": "execute_result"
    }
   ],
   "source": [
    "tweets[0].get_mention()"
   ]
  },
  {
   "cell_type": "code",
   "execution_count": null,
   "metadata": {},
   "outputs": [
    {
     "data": {
      "text/plain": [
       "['hdatasystems', 'Artificia']"
      ]
     },
     "execution_count": 9,
     "metadata": {},
     "output_type": "execute_result"
    }
   ],
   "source": [
    "tweets[0].get_hashtags()"
   ]
  },
  {
   "cell_type": "code",
   "execution_count": null,
   "metadata": {},
   "outputs": [
    {
     "data": {
      "text/html": [
       "<div>\n",
       "<style scoped>\n",
       "    .dataframe tbody tr th:only-of-type {\n",
       "        vertical-align: middle;\n",
       "    }\n",
       "\n",
       "    .dataframe tbody tr th {\n",
       "        vertical-align: top;\n",
       "    }\n",
       "\n",
       "    .dataframe thead th {\n",
       "        text-align: right;\n",
       "    }\n",
       "</style>\n",
       "<table border=\"1\" class=\"dataframe\">\n",
       "  <thead>\n",
       "    <tr style=\"text-align: right;\">\n",
       "      <th></th>\n",
       "      <th>id</th>\n",
       "      <th>AuthorLocation</th>\n",
       "      <th>CreatedAt</th>\n",
       "      <th>RetweetCount</th>\n",
       "      <th>TweetLanguage</th>\n",
       "      <th>TweetText</th>\n",
       "    </tr>\n",
       "  </thead>\n",
       "  <tbody>\n",
       "    <tr>\n",
       "      <th>0</th>\n",
       "      <td>1415291947560828928</td>\n",
       "      <td>Mysore  and  BERLIN</td>\n",
       "      <td>2021-07-14T12:47:49Z</td>\n",
       "      <td>2</td>\n",
       "      <td>en</td>\n",
       "      <td>RT @HDataSystems: Artificial Intelligence and ...</td>\n",
       "    </tr>\n",
       "    <tr>\n",
       "      <th>1</th>\n",
       "      <td>1415291877897605120</td>\n",
       "      <td></td>\n",
       "      <td>2021-07-14T12:47:33Z</td>\n",
       "      <td>246</td>\n",
       "      <td>en</td>\n",
       "      <td>RT @adgpi: Army Technology Board conducted the...</td>\n",
       "    </tr>\n",
       "    <tr>\n",
       "      <th>2</th>\n",
       "      <td>1415291886860967936</td>\n",
       "      <td></td>\n",
       "      <td>2021-07-14T12:47:35Z</td>\n",
       "      <td>1</td>\n",
       "      <td>en</td>\n",
       "      <td>RT @pacorjo: According to a recent survey, the...</td>\n",
       "    </tr>\n",
       "    <tr>\n",
       "      <th>3</th>\n",
       "      <td>1421423964845395968</td>\n",
       "      <td>Torremolinos, España</td>\n",
       "      <td>2021-07-31T10:54:16Z</td>\n",
       "      <td>17</td>\n",
       "      <td>en</td>\n",
       "      <td>RT @marcusborba: Artificial Intelligence May F...</td>\n",
       "    </tr>\n",
       "    <tr>\n",
       "      <th>4</th>\n",
       "      <td>1421423964845395968</td>\n",
       "      <td>Somewhere, Earth</td>\n",
       "      <td>2021-07-31T15:45:42Z</td>\n",
       "      <td>12</td>\n",
       "      <td>en</td>\n",
       "      <td>Just finished my work for the day. Time to rel...</td>\n",
       "    </tr>\n",
       "    <tr>\n",
       "      <th>5</th>\n",
       "      <td>1421423964845395968</td>\n",
       "      <td>Paradise City, USA</td>\n",
       "      <td>2021-07-31T12:30:00Z</td>\n",
       "      <td>50</td>\n",
       "      <td>en</td>\n",
       "      <td>Feeling grateful for the little things in life...</td>\n",
       "    </tr>\n",
       "    <tr>\n",
       "      <th>6</th>\n",
       "      <td>1421423964845395968</td>\n",
       "      <td>Nowhereville, Nowhere</td>\n",
       "      <td>2021-07-31T10:54:16Z</td>\n",
       "      <td>5</td>\n",
       "      <td>en</td>\n",
       "      <td>Mondays are the worst! Can't believe the weeke...</td>\n",
       "    </tr>\n",
       "  </tbody>\n",
       "</table>\n",
       "</div>"
      ],
      "text/plain": [
       "                    id         AuthorLocation             CreatedAt  \\\n",
       "0  1415291947560828928    Mysore  and  BERLIN  2021-07-14T12:47:49Z   \n",
       "1  1415291877897605120                         2021-07-14T12:47:33Z   \n",
       "2  1415291886860967936                         2021-07-14T12:47:35Z   \n",
       "3  1421423964845395968   Torremolinos, España  2021-07-31T10:54:16Z   \n",
       "4  1421423964845395968       Somewhere, Earth  2021-07-31T15:45:42Z   \n",
       "5  1421423964845395968     Paradise City, USA  2021-07-31T12:30:00Z   \n",
       "6  1421423964845395968  Nowhereville, Nowhere  2021-07-31T10:54:16Z   \n",
       "\n",
       "   RetweetCount TweetLanguage  \\\n",
       "0             2            en   \n",
       "1           246            en   \n",
       "2             1            en   \n",
       "3            17            en   \n",
       "4            12            en   \n",
       "5            50            en   \n",
       "6             5            en   \n",
       "\n",
       "                                           TweetText  \n",
       "0  RT @HDataSystems: Artificial Intelligence and ...  \n",
       "1  RT @adgpi: Army Technology Board conducted the...  \n",
       "2  RT @pacorjo: According to a recent survey, the...  \n",
       "3  RT @marcusborba: Artificial Intelligence May F...  \n",
       "4  Just finished my work for the day. Time to rel...  \n",
       "5  Feeling grateful for the little things in life...  \n",
       "6  Mondays are the worst! Can't believe the weeke...  "
      ]
     },
     "execution_count": 10,
     "metadata": {},
     "output_type": "execute_result"
    }
   ],
   "source": [
    "file2 = pd.read_json(\"json-fixer.json\")\n",
    "data2 = pd.DataFrame(file2)\n",
    "data2"
   ]
  },
  {
   "cell_type": "code",
   "execution_count": null,
   "metadata": {},
   "outputs": [],
   "source": [
    "#data2 = data.sort_values(by=\"RetweetCount\",ascending=False)\n",
    "#data2"
   ]
  },
  {
   "cell_type": "code",
   "execution_count": null,
   "metadata": {},
   "outputs": [],
   "source": []
  }
 ],
 "metadata": {
  "kernelspec": {
   "display_name": "Python 3",
   "language": "python",
   "name": "python3"
  },
  "language_info": {
   "codemirror_mode": {
    "name": "ipython",
    "version": 3
   },
   "file_extension": ".py",
   "mimetype": "text/x-python",
   "name": "python",
   "nbconvert_exporter": "python",
   "pygments_lexer": "ipython3",
   "version": "3.10.6"
  }
 },
 "nbformat": 4,
 "nbformat_minor": 2
}
